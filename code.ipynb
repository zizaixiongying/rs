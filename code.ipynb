{
  "nbformat": 4,
  "nbformat_minor": 0,
  "metadata": {
    "colab": {
      "private_outputs": true,
      "provenance": [],
      "include_colab_link": true
    },
    "kernelspec": {
      "name": "python3",
      "display_name": "Python 3"
    }
  },
  "cells": [
    {
      "cell_type": "markdown",
      "metadata": {
        "id": "view-in-github",
        "colab_type": "text"
      },
      "source": [
        "<a href=\"https://colab.research.google.com/github/zizaixiongying/rs/blob/main/chengxu8.ipynb\" target=\"_parent\"><img src=\"https://colab.research.google.com/assets/colab-badge.svg\" alt=\"Open In Colab\"/></a>"
      ]
    },
    {
      "cell_type": "code",
      "metadata": {
        "id": "fSIfBsgi8dNK"
      },
      "source": [
        "#@title Copyright 2020 Google LLC. { display-mode: \"form\" }\n",
        "# Licensed under the Apache License, Version 2.0 (the \"License\");\n",
        "# you may not use this file except in compliance with the License.\n",
        "# You may obtain a copy of the License at\n",
        "#\n",
        "# https://www.apache.org/licenses/LICENSE-2.0\n",
        "#\n",
        "# Unless required by applicable law or agreed to in writing, software\n",
        "# distributed under the License is distributed on an \"AS IS\" BASIS,\n",
        "# WITHOUT WARRANTIES OR CONDITIONS OF ANY KIND, either express or implied.\n",
        "# See the License for the specific language governing permissions and\n",
        "# limitations under the License."
      ],
      "execution_count": null,
      "outputs": []
    },
    {
      "cell_type": "markdown",
      "metadata": {
        "id": "aV1xZ1CPi3Nw"
      },
      "source": [
        "<table class=\"ee-notebook-buttons\" align=\"left\"><td>\n",
        "<a target=\"_blank\"  href=\"http://colab.research.google.com/github/google/earthengine-api/blob/master/python/examples/ipynb/TF_demo1_keras.ipynb\">\n",
        "    <img src=\"https://www.tensorflow.org/images/colab_logo_32px.png\" /> Run in Google Colab</a>\n",
        "</td><td>\n",
        "<a target=\"_blank\"  href=\"https://github.com/google/earthengine-api/blob/master/python/examples/ipynb/TF_demo1_keras.ipynb\"><img width=32px src=\"https://www.tensorflow.org/images/GitHub-Mark-32px.png\" /> View source on GitHub</a></td></table>"
      ]
    },
    {
      "cell_type": "markdown",
      "metadata": {
        "id": "AC8adBmw-5m3"
      },
      "source": [
        "# Introduction\n",
        "\n",
        "This is an Earth Engine <> TensorFlow demonstration notebook.  Specifically, this notebook shows:\n",
        "\n",
        "1.   Exporting training/testing data from Earth Engine in TFRecord format.\n",
        "2.   Preparing the data for use in a TensorFlow model.\n",
        "2.   Training and validating a simple model (Keras `Sequential` neural network) in TensorFlow.\n",
        "3.   Making predictions on image data exported from Earth Engine in TFRecord format.\n",
        "4.   Ingesting classified image data to Earth Engine in TFRecord format.\n",
        "\n",
        "This is intended to demonstrate a complete i/o pipeline.  For a worflow that uses a [Google AI Platform](https://cloud.google.com/ai-platform) hosted model making predictions interactively, see [this example notebook](http://colab.research.google.com/github/google/earthengine-api/blob/master/python/examples/ipynb/Earth_Engine_TensorFlow_AI_Platform.ipynb)."
      ]
    },
    {
      "cell_type": "markdown",
      "metadata": {
        "id": "KiTyR3FNlv-O"
      },
      "source": [
        "# Setup software libraries\n",
        "\n",
        "Import software libraries and/or authenticate as necessary."
      ]
    },
    {
      "cell_type": "markdown",
      "metadata": {
        "id": "dEM3FP4YakJg"
      },
      "source": [
        "## Authenticate to Colab and Cloud\n",
        "\n",
        "To read/write from a Google Cloud Storage bucket to which you have access, it's necessary to authenticate (as yourself).  *This should be the same account you use to login to Earth Engine*.  When you run the code below, it will display a link in the output to an authentication page in your browser.  Follow the link to a page that will let you grant permission to the Cloud SDK to access your resources.  Copy the code from the permissions page back into this notebook and press return to complete the process.\n",
        "\n",
        "(You may need to run this again if you get a credentials error later.)"
      ]
    },
    {
      "cell_type": "code",
      "metadata": {
        "id": "sYyTIPLsvMWl",
        "cellView": "code"
      },
      "source": [
        "from google.colab import auth\n",
        "auth.authenticate_user()"
      ],
      "execution_count": null,
      "outputs": []
    },
    {
      "cell_type": "markdown",
      "metadata": {
        "id": "Ejxa1MQjEGv9"
      },
      "source": [
        "## Authenticate to Earth Engine\n",
        "\n",
        "Authenticate to Earth Engine the same way you did to the Colab notebook.  Specifically, run the code to display a link to a permissions page.  This gives you access to your Earth Engine account.  *This should be the same account you used to login to Cloud previously*.  Copy the code from the Earth Engine permissions page back into the notebook and press return to complete the process."
      ]
    },
    {
      "cell_type": "code",
      "metadata": {
        "id": "HzwiVqbcmJIX",
        "cellView": "code"
      },
      "source": [
        "import ee\n",
        "ee.Authenticate()\n",
        "ee.Initialize()"
      ],
      "execution_count": null,
      "outputs": []
    },
    {
      "cell_type": "markdown",
      "metadata": {
        "id": "iJ70EsoWND_0"
      },
      "source": [
        "## Test the TensorFlow installation\n",
        "\n",
        "Import the TensorFlow library and check the version."
      ]
    },
    {
      "cell_type": "code",
      "metadata": {
        "id": "i1PrYRLaVw_g",
        "cellView": "code"
      },
      "source": [
        "import tensorflow as tf\n",
        "print(tf.__version__)"
      ],
      "execution_count": null,
      "outputs": []
    },
    {
      "cell_type": "markdown",
      "metadata": {
        "id": "b8Xcvjp6cLOL"
      },
      "source": [
        "## Test the Folium installation\n",
        "\n",
        "We will use the Folium library for visualization.  Import the library and check the version."
      ]
    },
    {
      "cell_type": "code",
      "metadata": {
        "id": "YiVgOXzBZJSn"
      },
      "source": [
        "import folium\n",
        "print(folium.__version__)"
      ],
      "execution_count": null,
      "outputs": []
    },
    {
      "cell_type": "code",
      "metadata": {
        "id": "--raob7O87Q3"
      },
      "source": [
        "from pprint import pprint"
      ],
      "execution_count": null,
      "outputs": []
    },
    {
      "cell_type": "markdown",
      "metadata": {
        "id": "DrXLkJC2QJdP"
      },
      "source": [
        "# Define variables\n",
        "\n",
        "This set of global variables will be used throughout.  For this demo, you must have a Cloud Storage bucket into which you can write files.  ([learn more about creating Cloud Storage buckets](https://cloud.google.com/storage/docs/creating-buckets)).  You'll also need to specify your Earth Engine username, i.e. `users/USER_NAME` on the [Code Editor](https://code.earthengine.google.com/) Assets tab."
      ]
    },
    {
      "cell_type": "code",
      "metadata": {
        "id": "GHTOc5YLQZ5B"
      },
      "source": [
        "# Your Earth Engine username.  This is used to import a classified image\n",
        "# into your Earth Engine assets folder.\n",
        "USER_NAME = 'jz99544'\n",
        "\n",
        "# Cloud Storage bucket into which training, testing and prediction\n",
        "# datasets will be written.  You must be able to write into this bucket.\n",
        "OUTPUT_BUCKET = 'zhangjian'\n",
        "# Use Landsat 8 surface reflectance data for predictors.\n",
        "# Use these bands for prediction.\n",
        "BANDS = ['B1', 'B2', 'B3', 'B4', 'B5', 'B6', 'B7', 'B10', 'B11', 'B1_1', 'B2_1', 'B3_1', 'B4_1', 'B5_1', 'B6_1', 'B7_1', 'B8', 'B8A', 'B9', 'B10_1', 'B11_1', 'B12', 'B1_2', 'B2_2', 'B3_2', 'B4_2', 'B5_2', 'B6_2', 'B7_2', 'B10_2', 'B11_2', 'B1_3', 'B2_3', 'B3_3', 'B4_3', 'B5_3', 'B6_3', 'B7_3', 'B8_1', 'B8A_1', 'B9_1', 'B10_3', 'B11_3', 'B12_1', 'B1_4', 'B2_4', 'B3_4', 'B4_4', 'B5_4', 'B6_4', 'B7_4', 'B10_4', 'B11_4', 'B1_5', 'B2_5', 'B3_5', 'B4_5', 'B5_5', 'B6_5', 'B7_5', 'B8_2', 'B8A_2', 'B9_2', 'B10_5', 'B11_5', 'B12_2', 'B1_6', 'B2_6', 'B3_6', 'B4_6', 'B5_6', 'B6_6', 'B7_6', 'B10_6', 'B11_6', 'B1_7', 'B2_7', 'B3_7', 'B4_7', 'B5_7', 'B6_7', 'B7_7', 'B8_3', 'B8A_3', 'B9_3', 'B10_7', 'B11_7', 'B12_3']\n",
        "BANDS1 = ['B1','B2', 'B3', 'B4', 'B5', 'B6', 'B7','B10','B11']\n",
        "BANDS2 = ['B1','B2', 'B3', 'B4', 'B5', 'B6', 'B7', 'B8', 'B8A', 'B9', 'B10','B11','B12']\n",
        "# BANDS = ['B2_-3_-3', 'B2_-2_-3', 'B2_-1_-3', 'B2_0_-3', 'B2_1_-3', 'B2_2_-3', 'B2_3_-3', 'B2_-3_-2', 'B2_-2_-2', 'B2_-1_-2', 'B2_0_-2', 'B2_1_-2', 'B2_2_-2', 'B2_3_-2', 'B2_-3_-1', 'B2_-2_-1', 'B2_-1_-1', 'B2_0_-1', 'B2_1_-1', 'B2_2_-1', 'B2_3_-1', 'B2_-3_0', 'B2_-2_0', 'B2_-1_0', 'B2_0_0', 'B2_1_0', 'B2_2_0', 'B2_3_0', 'B2_-3_1', 'B2_-2_1', 'B2_-1_1', 'B2_0_1', 'B2_1_1', 'B2_2_1', 'B2_3_1', 'B2_-3_2', 'B2_-2_2', 'B2_-1_2', 'B2_0_2', 'B2_1_2', 'B2_2_2', 'B2_3_2', 'B2_-3_3', 'B2_-2_3', 'B2_-1_3', 'B2_0_3', 'B2_1_3', 'B2_2_3', 'B2_3_3', 'B3_-3_-3', 'B3_-2_-3', 'B3_-1_-3', 'B3_0_-3', 'B3_1_-3', 'B3_2_-3', 'B3_3_-3', 'B3_-3_-2', 'B3_-2_-2', 'B3_-1_-2', 'B3_0_-2', 'B3_1_-2', 'B3_2_-2', 'B3_3_-2', 'B3_-3_-1', 'B3_-2_-1', 'B3_-1_-1', 'B3_0_-1', 'B3_1_-1', 'B3_2_-1', 'B3_3_-1', 'B3_-3_0', 'B3_-2_0', 'B3_-1_0', 'B3_0_0', 'B3_1_0', 'B3_2_0', 'B3_3_0', 'B3_-3_1', 'B3_-2_1', 'B3_-1_1', 'B3_0_1', 'B3_1_1', 'B3_2_1', 'B3_3_1', 'B3_-3_2', 'B3_-2_2', 'B3_-1_2', 'B3_0_2', 'B3_1_2', 'B3_2_2', 'B3_3_2', 'B3_-3_3', 'B3_-2_3', 'B3_-1_3', 'B3_0_3', 'B3_1_3', 'B3_2_3', 'B3_3_3', 'B4_-3_-3', 'B4_-2_-3', 'B4_-1_-3', 'B4_0_-3', 'B4_1_-3', 'B4_2_-3', 'B4_3_-3', 'B4_-3_-2', 'B4_-2_-2', 'B4_-1_-2', 'B4_0_-2', 'B4_1_-2', 'B4_2_-2', 'B4_3_-2', 'B4_-3_-1', 'B4_-2_-1', 'B4_-1_-1', 'B4_0_-1', 'B4_1_-1', 'B4_2_-1', 'B4_3_-1', 'B4_-3_0', 'B4_-2_0', 'B4_-1_0', 'B4_0_0', 'B4_1_0', 'B4_2_0', 'B4_3_0', 'B4_-3_1', 'B4_-2_1', 'B4_-1_1', 'B4_0_1', 'B4_1_1', 'B4_2_1', 'B4_3_1', 'B4_-3_2', 'B4_-2_2', 'B4_-1_2', 'B4_0_2', 'B4_1_2', 'B4_2_2', 'B4_3_2', 'B4_-3_3', 'B4_-2_3', 'B4_-1_3', 'B4_0_3', 'B4_1_3', 'B4_2_3', 'B4_3_3', 'B5_-3_-3', 'B5_-2_-3', 'B5_-1_-3', 'B5_0_-3', 'B5_1_-3', 'B5_2_-3', 'B5_3_-3', 'B5_-3_-2', 'B5_-2_-2', 'B5_-1_-2', 'B5_0_-2', 'B5_1_-2', 'B5_2_-2', 'B5_3_-2', 'B5_-3_-1', 'B5_-2_-1', 'B5_-1_-1', 'B5_0_-1', 'B5_1_-1', 'B5_2_-1', 'B5_3_-1', 'B5_-3_0', 'B5_-2_0', 'B5_-1_0', 'B5_0_0', 'B5_1_0', 'B5_2_0', 'B5_3_0', 'B5_-3_1', 'B5_-2_1', 'B5_-1_1', 'B5_0_1', 'B5_1_1', 'B5_2_1', 'B5_3_1', 'B5_-3_2', 'B5_-2_2', 'B5_-1_2', 'B5_0_2', 'B5_1_2', 'B5_2_2', 'B5_3_2', 'B5_-3_3', 'B5_-2_3', 'B5_-1_3', 'B5_0_3', 'B5_1_3', 'B5_2_3', 'B5_3_3', 'B6_-3_-3', 'B6_-2_-3', 'B6_-1_-3', 'B6_0_-3', 'B6_1_-3', 'B6_2_-3', 'B6_3_-3', 'B6_-3_-2', 'B6_-2_-2', 'B6_-1_-2', 'B6_0_-2', 'B6_1_-2', 'B6_2_-2', 'B6_3_-2', 'B6_-3_-1', 'B6_-2_-1', 'B6_-1_-1', 'B6_0_-1', 'B6_1_-1', 'B6_2_-1', 'B6_3_-1', 'B6_-3_0', 'B6_-2_0', 'B6_-1_0', 'B6_0_0', 'B6_1_0', 'B6_2_0', 'B6_3_0', 'B6_-3_1', 'B6_-2_1', 'B6_-1_1', 'B6_0_1', 'B6_1_1', 'B6_2_1', 'B6_3_1', 'B6_-3_2', 'B6_-2_2', 'B6_-1_2', 'B6_0_2', 'B6_1_2', 'B6_2_2', 'B6_3_2', 'B6_-3_3', 'B6_-2_3', 'B6_-1_3', 'B6_0_3', 'B6_1_3', 'B6_2_3', 'B6_3_3', 'B7_-3_-3', 'B7_-2_-3', 'B7_-1_-3', 'B7_0_-3', 'B7_1_-3', 'B7_2_-3', 'B7_3_-3', 'B7_-3_-2', 'B7_-2_-2', 'B7_-1_-2', 'B7_0_-2', 'B7_1_-2', 'B7_2_-2', 'B7_3_-2', 'B7_-3_-1', 'B7_-2_-1', 'B7_-1_-1', 'B7_0_-1', 'B7_1_-1', 'B7_2_-1', 'B7_3_-1', 'B7_-3_0', 'B7_-2_0', 'B7_-1_0', 'B7_0_0', 'B7_1_0', 'B7_2_0', 'B7_3_0', 'B7_-3_1', 'B7_-2_1', 'B7_-1_1', 'B7_0_1', 'B7_1_1', 'B7_2_1', 'B7_3_1', 'B7_-3_2', 'B7_-2_2', 'B7_-1_2', 'B7_0_2', 'B7_1_2', 'B7_2_2', 'B7_3_2', 'B7_-3_3', 'B7_-2_3', 'B7_-1_3', 'B7_0_3', 'B7_1_3', 'B7_2_3', 'B7_3_3']\n",
        "# BANDS = ['B21', 'B22', 'B23', 'B24', 'B25', 'B26', 'B27', 'B28', 'B29',\n",
        "#          'B3_1', 'B32', 'B33', 'B34', 'B35', 'B36', 'B37', 'B38', 'B39',\n",
        "#          'B41', 'B42', 'B43', 'B44', 'B45', 'B46', 'B47', 'B48', 'B49',\n",
        "#          'B51', 'B52', 'B53', 'B54', 'B55', 'B56', 'B57', 'B58', 'B59',\n",
        "#          'B61', 'B62', 'B63', 'B64', 'B65', 'B66', 'B67', 'B68', 'B69',\n",
        "#          'B71', 'B72', 'B73', 'B74', 'B75', 'B76', 'B77', 'B78', 'B79']\n",
        "\n",
        "# This is a trianing/testing dataset of points with known land cover labels.\n",
        "# LABEL_DATA = ee.FeatureCollection('projects/google/demo_landcover_labels')\n",
        "# The labels, consecutive integer indices starting from zero, are stored in\n",
        "# this property, set on each point.\n",
        "LABEL = 'landcover'\n",
        "# Number of label values, i.e. number of classes in the classification.\n",
        "N_CLASSES = 14\n",
        "\n",
        "# These names are used to specify properties in the export of\n",
        "# training/testing data and to define the mapping between names and data\n",
        "# when reading into TensorFlow datasets.\n",
        "FEATURE_NAMES = ['B1', 'B2', 'B3', 'B4', 'B5', 'B6', 'B7', 'B10', 'B11', 'B1_1', 'B2_1', 'B3_1', 'B4_1', 'B5_1', 'B6_1', 'B7_1', 'B8', 'B8A', 'B9', 'B10_1', 'B11_1', 'B12', 'B1_2', 'B2_2', 'B3_2', 'B4_2', 'B5_2', 'B6_2', 'B7_2', 'B10_2', 'B11_2', 'B1_3', 'B2_3', 'B3_3', 'B4_3', 'B5_3', 'B6_3', 'B7_3', 'B8_1', 'B8A_1', 'B9_1', 'B10_3', 'B11_3', 'B12_1', 'B1_4', 'B2_4', 'B3_4', 'B4_4', 'B5_4', 'B6_4', 'B7_4', 'B10_4', 'B11_4', 'B1_5', 'B2_5', 'B3_5', 'B4_5', 'B5_5', 'B6_5', 'B7_5', 'B8_2', 'B8A_2', 'B9_2', 'B10_5', 'B11_5', 'B12_2', 'B1_6', 'B2_6', 'B3_6', 'B4_6', 'B5_6', 'B6_6', 'B7_6', 'B10_6', 'B11_6', 'B1_7', 'B2_7', 'B3_7', 'B4_7', 'B5_7', 'B6_7', 'B7_7', 'B8_3', 'B8A_3', 'B9_3', 'B10_7', 'B11_7', 'B12_3']\n",
        "# FEATURE_NAMES = ['B1', 'B2', 'B3', 'B4', 'B5', 'B6', 'B7', 'B10', 'B11', 'B1_1', 'B2_1', 'B3_1', 'B4_1', 'B5_1', 'B6_1', 'B7_1', 'B10_1', 'B11_1', 'B1_2', 'B2_2', 'B3_2', 'B4_2', 'B5_2', 'B6_2', 'B7_2', 'B10_2', 'B11_2', 'B1_3', 'B2_3', 'B3_3', 'B4_3', 'B5_3', 'B6_3', 'B7_3', 'B10_3', 'B11_3']\n",
        "FEATURE_NAMES.append(LABEL)\n",
        "\n",
        "# File names for the training and testing datasets.  These TFRecord files\n",
        "# will be exported from Earth Engine into the Cloud Storage bucket.\n",
        "TRAIN_FILE_PREFIX = 'Training_demo'\n",
        "TEST_FILE_PREFIX = 'Testing_demo'\n",
        "file_extension = '.tfrecord.gz'\n",
        "TRAIN_FILE_PATH = 'gs://' + OUTPUT_BUCKET + '/' + TRAIN_FILE_PREFIX + file_extension\n",
        "TEST_FILE_PATH = 'gs://' + OUTPUT_BUCKET + '/' + TEST_FILE_PREFIX + file_extension\n",
        "\n",
        "# File name for the prediction (image) dataset.  The trained model will read\n",
        "# this dataset and make predictions in each pixel.\n",
        "IMAGE_FILE_PREFIX = 'Image_pixel_demo_'\n",
        "\n",
        "# The output path for the classified image (i.e. predictions) TFRecord file.\n",
        "OUTPUT_IMAGE_FILE = 'gs://' + OUTPUT_BUCKET + '/Classified_pixel_demo1.TFRecord'\n",
        "# Export imagery in this region.\n",
        "# EXPORT_REGION = ee.Geometry.Rectangle([-83.32, 36.18, -83.02, 35.93])\n",
        "# EXPORT_REGION = ee.Geometry.Rectangle([-96.67, 36.53,-96.37, 36.28])\n",
        "EXPORT_REGION = ee.Geometry.Rectangle([-81.37, 26.14, -81.07, 25.89])\n",
        "\n",
        "\n",
        "# The name of the Earth Engine asset to be created by importing\n",
        "# the classified image from the TFRecord file in Cloud Storage.\n",
        "OUTPUT_ASSET_ID = 'users/' + USER_NAME + '/Classified_pixel_demo1'"
      ],
      "execution_count": null,
      "outputs": []
    },
    {
      "cell_type": "markdown",
      "metadata": {
        "id": "ZcjQnHH8zT4q"
      },
      "source": [
        "# Get Training and Testing data from Earth Engine\n",
        "\n",
        "To get data for a classification model of three classes (bare, vegetation, water), we need labels and the value of predictor variables for each labeled example.  We've already generated some labels in Earth Engine.  Specifically, these are visually interpreted points labeled \"bare,\" \"vegetation,\" or \"water\" for a very simple classification demo ([example script](https://code.earthengine.google.com/?scriptPath=Examples%3ADemos%2FClassification)).  For predictor variables, we'll use [Landsat 8 surface reflectance imagery](https://developers.google.com/earth-engine/datasets/catalog/LANDSAT_LC08_C01_T1_SR), bands 2-7."
      ]
    },
    {
      "cell_type": "markdown",
      "metadata": {
        "id": "0EJfjgelSOpN"
      },
      "source": [
        "## Prepare Landsat 8 imagery\n",
        "\n",
        "First, make a cloud-masked median composite of Landsat 8 surface reflectance imagery from 2018.  Check the composite by visualizing with folium."
      ]
    },
    {
      "cell_type": "code",
      "metadata": {
        "id": "DJYucYe3SPPr"
      },
      "source": [
        "# Cloud masking function.\n",
        "L8SR = ee.ImageCollection('LANDSAT/LC08/C01/T1_SR')\n",
        "# Cloud masking function.\n",
        "def maskL8sr(image):\n",
        "  cloudShadowBitMask = ee.Number(2).pow(3).int()\n",
        "  cloudsBitMask = ee.Number(2).pow(5).int()\n",
        "  qa = image.select('pixel_qa')\n",
        "  mask = qa.bitwiseAnd(cloudShadowBitMask).eq(0).And(\n",
        "    qa.bitwiseAnd(cloudsBitMask).eq(0))\n",
        "  return image.updateMask(mask).divide(10000)\n",
        "\n",
        "S2 = ee.ImageCollection('COPERNICUS/S2')\n",
        "def maskS2clouds(image):\n",
        "  qa = image.select('QA60');\n",
        "  cloudBitMask = ee.Number(2).pow(10).int()\n",
        "  cirrusBitMask = ee.Number(2).pow(11).int()\n",
        "  mask = qa.bitwiseAnd(cloudBitMask).eq(0).And(\n",
        "      qa.bitwiseAnd(cirrusBitMask).eq(0))\n",
        "  return image.updateMask(mask).divide(10000);\n",
        "\n",
        "# The image input data is a cloud-masked median composite.\n",
        "image1 = L8SR.filterDate('2016-04-01', '2016-08-31').map(maskL8sr).mean()\n",
        "image2 = L8SR.filterDate('2016-05-01', '2016-09-30').map(maskL8sr).mean()\n",
        "image3 = L8SR.filterDate('2016-06-01', '2016-10-31').map(maskL8sr).mean()\n",
        "image4 = L8SR.filterDate('2016-07-01', '2016-11-30').map(maskL8sr).mean()\n",
        "image5 = S2.filterDate('2016-04-01', '2016-08-31').filter(ee.Filter.lt('CLOUDY_PIXEL_PERCENTAGE', 20)).map(maskS2clouds).mean()\n",
        "image6 = S2.filterDate('2016-05-01', '2016-09-30').filter(ee.Filter.lt('CLOUDY_PIXEL_PERCENTAGE', 20)).map(maskS2clouds).mean()\n",
        "image7 = S2.filterDate('2016-06-01', '2016-10-31').filter(ee.Filter.lt('CLOUDY_PIXEL_PERCENTAGE', 20)).map(maskS2clouds).mean()\n",
        "image8 = S2.filterDate('2016-07-01', '2016-11-30').filter(ee.Filter.lt('CLOUDY_PIXEL_PERCENTAGE', 20)).map(maskS2clouds).mean()\n",
        "\n",
        "# list1 = ee.List.repeat(1, 7)\n",
        "# lists1 = ee.List.repeat(list1, 7)\n",
        "# kernel = ee.Kernel.fixed(7, 7, lists1)\n",
        "# image = image.neighborhoodToBands(kernel)  #将邻域像元加入band\n",
        "# image = image.select(['B2_-1_-1', 'B2_0_-1', 'B2_1_-1', 'B2_-1_0', 'B2_0_0', 'B2_1_0', 'B2_-1_1', 'B2_0_1', 'B2_1_1', 'B3_-1_-1', 'B3_0_-1', 'B3_1_-1', 'B3_-1_0', 'B3_0_0', 'B3_1_0', 'B3_-1_1', 'B3_0_1', 'B3_1_1', 'B4_-1_-1', 'B4_0_-1', 'B4_1_-1', 'B4_-1_0', 'B4_0_0', 'B4_1_0', 'B4_-1_1', 'B4_0_1', 'B4_1_1', 'B5_-1_-1', 'B5_0_-1', 'B5_1_-1', 'B5_-1_0', 'B5_0_0', 'B5_1_0', 'B5_-1_1', 'B5_0_1', 'B5_1_1', 'B6_-1_-1', 'B6_0_-1', 'B6_1_-1', 'B6_-1_0', 'B6_0_0', 'B6_1_0', 'B6_-1_1', 'B6_0_1', 'B6_1_1', 'B7_-1_-1', 'B7_0_-1', 'B7_1_-1', 'B7_-1_0', 'B7_0_0', 'B7_1_0', 'B7_-1_1', 'B7_0_1', 'B7_1_1'],\n",
        "#          ['B21', 'B22', 'B23', 'B24', 'B25', 'B26', 'B27', 'B28', 'B29',\n",
        "#          'B3_1', 'B32', 'B33', 'B34', 'B35', 'B36', 'B37', 'B38', 'B39',\n",
        "#          'B41', 'B42', 'B43', 'B44', 'B45', 'B46', 'B47', 'B48', 'B49',\n",
        "#          'B51', 'B52', 'B53', 'B54', 'B55', 'B56', 'B57', 'B58', 'B59',\n",
        "#          'B61', 'B62', 'B63', 'B64', 'B65', 'B66', 'B67', 'B68', 'B69',\n",
        "#          'B71', 'B72', 'B73', 'B74', 'B75', 'B76', 'B77', 'B78', 'B79'])\n",
        "# print(image.bandNames().getInfo())\n",
        "# # Use folium to visualize the imagery.\n",
        "# mapid = image.getMapId({'bands': ['B4', 'B3', 'B2'], 'min': 0, 'max': 0.3})\n",
        "# # map = folium.Map(location=[38., -122.5])\n",
        "# map = folium.Map(location=[37., 111.0])\n",
        "\n",
        "# folium.TileLayer(\n",
        "#     tiles=mapid['tile_fetcher'].url_format,\n",
        "#     attr='Map Data &copy; <a href=\"https://earthengine.google.com/\">Google Earth Engine</a>',\n",
        "#     overlay=True,\n",
        "#     name='median composite',\n",
        "#   ).add_to(map)\n",
        "# map.add_child(folium.LayerControl())\n",
        "# map"
      ],
      "execution_count": null,
      "outputs": []
    },
    {
      "cell_type": "code",
      "metadata": {
        "id": "eNrCKnUIvQaU"
      },
      "source": [
        "nlcd = ee.Image('USGS/NLCD/NLCD2016').select('landcover')\n",
        "# nlcd = nlcd.remap([11,12,21,22,23,24,31,41,42,43,51,52,71,72,73,74,81,82,90,95],[0,20,1,20,2,2,20,3,4,20,20,20,5,20,20,20,6,7,20,20])\n",
        "\n",
        "# nlcd = nlcd.remap([11,12,21,22,23,24,31,41,42,43,51,52,71,72,73,74,81,82,90,95],[0,20,1,1,1,1,2,3,3,3,20,4,5,20,20,20,6,7,8,8])\n",
        "# nlcd = nlcd.remap([11,12,21,22,23,24,31,41,42,43,51,52,71,72,73,74,81,82,90,95],[0,1,2,3,4,5,6,7,8,9,10,11,12,13,14,15,16,17,18,19])\n",
        "nlcd = nlcd.remap([11,12,21,22,23,24,31,41,42,43,51,52,71,72,73,74,81,82,90,95],[0,20,1,2,3,3,4,5,6,7,20,8,9,20,20,20,10,11,12,13])\n",
        "# nlcd = nlcd.remap([11,12,21,22,23,24,31,41,42,43,51,52,71,72,73,74,81,82,90,95],[0,9,1,9,9,2,9,3,4,5,9,9,9,9,9,9,6,9,7,9])\n",
        "# nlcd = nlcd.remap([11,12,21,22,23,24,31,41,42,43,51,52,71,72,73,74,81,82,90,95],[0,20,1,1,2,2,20,3,4,4,20,4,4,20,20,20,5,5,4,0])\n",
        "nlcd = nlcd.select(['remapped'],['landcover']) #nlcd在执行remap后landcover变成remaped，通过该方法将其再转换为landcover\n",
        "image = ee.Image.cat([\n",
        "  image1.select(BANDS1),\n",
        "  image5.select(BANDS2),\n",
        "  image2.select(BANDS1),\n",
        "  image6.select(BANDS2),\n",
        "  image3.select(BANDS1),\n",
        "  image7.select(BANDS2),\n",
        "  image4.select(BANDS1),\n",
        "  image8.select(BANDS2),\n",
        "]).float()\n",
        "ln = ee.Image.cat([\n",
        "  image,\n",
        "  nlcd\n",
        "]).float()\n",
        "\n",
        "print(ln.bandNames().getInfo())"
      ],
      "execution_count": null,
      "outputs": []
    },
    {
      "cell_type": "code",
      "metadata": {
        "id": "PmC_iTuoQmj2"
      },
      "source": [
        "poly1 = ee.Geometry.Polygon(\n",
        "        [[[-90.24, 29.97],\n",
        "          [-90.24, 29.27],\n",
        "          [-89.24, 29.27],\n",
        "          [-89.24, 29.97]]])\n",
        "poly2 = ee.Geometry.Polygon(\n",
        "        [[[-95.90, 30.20],\n",
        "          [-95.90, 29.50],\n",
        "          [-94.90, 29.50],\n",
        "          [-94.90, 30.20]]])\n",
        "poly3 = ee.Geometry.Polygon(\n",
        "        [[[-84.78, 34.20],\n",
        "          [-84.78, 33.50],\n",
        "          [-83.78, 33.50],\n",
        "          [-83.78, 34.20]]])\n",
        "poly4 = ee.Geometry.Polygon(\n",
        "        [[[-97.37, 33.31],\n",
        "          [-97.37, 32.61],\n",
        "          [-96.37, 32.61],\n",
        "          [-96.37, 33.31]]])\n",
        "poly5 = ee.Geometry.Polygon(\n",
        "        [[[-116.52, 33.44],\n",
        "          [-116.52, 32.74],\n",
        "          [-115.52, 32.74],\n",
        "          [-115.52, 33.44]]])\n",
        "poly6 = ee.Geometry.Polygon(\n",
        "        [[[-82.87, 38.05],\n",
        "          [-82.87, 37.35],\n",
        "          [-81.87, 37.35],\n",
        "          [-81.87, 38.05]]])\n",
        "poly7 = ee.Geometry.Polygon(\n",
        "        [[[-104.32, 44.48],\n",
        "          [-104.32, 43.78],\n",
        "          [-103.32, 43.78],\n",
        "          [-103.32, 44.48]]])\n",
        "poly8 = ee.Geometry.Polygon(\n",
        "        [[[-70.12, 44.74],\n",
        "          [-70.12, 44.04],\n",
        "          [-69.12, 44.04],\n",
        "          [-69.12, 44.74]]])\n",
        "poly9 = ee.Geometry.Polygon(\n",
        "        [[[-103.61, 31.79],\n",
        "          [-103.61, 30.79],\n",
        "          [-102.61, 30.79],\n",
        "          [-102.61, 31.79]]])\n",
        "poly10 = ee.Geometry.Polygon(\n",
        "        [[[-101.86, 42.48],\n",
        "          [-101.86, 41.78],\n",
        "          [-100.86, 41.78],\n",
        "          [-100.86, 42.48]]])\n",
        "poly11 = ee.Geometry.Polygon(\n",
        "        [[[-85.07, 38.50],\n",
        "          [-85.07, 37.80],\n",
        "          [-84.07, 37.80],\n",
        "          [-84.07, 38.50]]])\n",
        "poly12 = ee.Geometry.Polygon(\n",
        "        [[[-87.79, 41.92],\n",
        "          [-87.79, 41.22],\n",
        "          [-86.79, 41.22],\n",
        "          [-86.79, 41.92]]])\n",
        "poly13 = ee.Geometry.Polygon(\n",
        "        [[[-94.54, 48.43],\n",
        "          [-94.54, 47.73],\n",
        "          [-93.54, 47.73],\n",
        "          [-93.54, 48.43]]])\n",
        "\n",
        "percent = 0.7\n",
        "num = 5000\n",
        "li = 500\n",
        "sample1 = ln.sample(\n",
        "    region = poly1,\n",
        "    scale = 30,\n",
        "    numPixels = num, # Size of the shard.\n",
        "    seed = 3,\n",
        "    tileScale = 8\n",
        "  )\n",
        "sample2 = ln.sample(\n",
        "    region = poly2,\n",
        "    scale = 30,\n",
        "    numPixels = num, # Size of the shard.\n",
        "    seed = 3,\n",
        "    tileScale = 8\n",
        "  )\n",
        "sample3 = ln.sample(\n",
        "    region = poly3,\n",
        "    scale = 30,\n",
        "    numPixels = num, # Size of the shard.\n",
        "    seed = 3,\n",
        "    tileScale = 8\n",
        "  )\n",
        "sample4 = ln.sample(\n",
        "    region = poly4,\n",
        "    scale = 30,\n",
        "    numPixels = num, # Size of the shard.\n",
        "    seed = 3,\n",
        "    tileScale = 8\n",
        "  )\n",
        "sample5 = ln.sample(\n",
        "    region = poly5,\n",
        "    scale = 30,\n",
        "    numPixels = num, # Size of the shard.\n",
        "    seed = 3,\n",
        "    tileScale = 8\n",
        "  )\n",
        "sample6 = ln.sample(\n",
        "    region = poly6,\n",
        "    scale = 30,\n",
        "    numPixels = num, # Size of the shard.\n",
        "    seed = 3,\n",
        "    tileScale = 8\n",
        "  )\n",
        "sample7 = ln.sample(\n",
        "    region = poly7,\n",
        "    scale = 30,\n",
        "    numPixels = num, # Size of the shard.\n",
        "    seed = 3,\n",
        "    tileScale = 8\n",
        "  )\n",
        "sample8 = ln.sample(\n",
        "    region = poly8,\n",
        "    scale = 30,\n",
        "    numPixels = num, # Size of the shard.\n",
        "    seed = 3,\n",
        "    tileScale = 8\n",
        "  )\n",
        "sample9 = ln.sample(\n",
        "    region = poly9,\n",
        "    scale = 30,\n",
        "    numPixels = num, # Size of the shard.\n",
        "    seed = 3,\n",
        "    tileScale = 8\n",
        "  )\n",
        "sample10 = ln.sample(\n",
        "    region = poly10,\n",
        "    scale = 30,\n",
        "    numPixels = num, # Size of the shard.\n",
        "    seed = 3,\n",
        "    tileScale = 8\n",
        "  )\n",
        "sample11 = ln.sample(\n",
        "    region = poly11,\n",
        "    scale = 30,\n",
        "    numPixels = num, # Size of the shard.\n",
        "    seed = 3,\n",
        "    tileScale = 8\n",
        "  )\n",
        "sample12 = ln.sample(\n",
        "    region = poly12,\n",
        "    scale = 30,\n",
        "    numPixels = num, # Size of the shard.\n",
        "    seed = 3,\n",
        "    tileScale = 8\n",
        "  )\n",
        "sample13 = ln.sample(\n",
        "    region = poly13,\n",
        "    scale = 30,\n",
        "    numPixels = num, # Size of the shard.\n",
        "    seed = 3,\n",
        "    tileScale = 8\n",
        "  )\n",
        "\n",
        "sample = sample1.merge(sample2).merge(sample3).merge(sample4).merge(sample5).merge(sample6).merge(sample7).merge(sample8).merge(sample9).merge(sample10).merge(sample11).merge(sample12).merge(sample13)\n",
        "# sample = sample2.merge(sample3).merge(sample4).merge(sample5).merge(sample6).merge(sample7)\n",
        "# for i in range(14):\n",
        "#   a0 = sample.filter(ee.Filter.eq('landcover',i))\n",
        "#   pprint(\"a0:%d\"%(a0.size().getInfo()))\n",
        "\n",
        "a0 = sample.filter(ee.Filter.eq('landcover',0)).limit(li).randomColumn()\n",
        "b0 = a0.filter(ee.Filter.lt('random',percent))\n",
        "c0 = a0.filter(ee.Filter.gte('random',percent))\n",
        "a1 = sample.filter(ee.Filter.eq('landcover',1)).limit(li).randomColumn()\n",
        "b1 = a1.filter(ee.Filter.lt('random',percent))\n",
        "c1 = a1.filter(ee.Filter.gte('random',percent))\n",
        "a2 = sample.filter(ee.Filter.eq('landcover',2)).limit(li).randomColumn()\n",
        "b2 = a2.filter(ee.Filter.lt('random',percent))\n",
        "c2 = a2.filter(ee.Filter.gte('random',percent))\n",
        "a3 = sample.filter(ee.Filter.eq('landcover',3)).limit(li).randomColumn()\n",
        "b3 = a3.filter(ee.Filter.lt('random',percent))\n",
        "c3 = a3.filter(ee.Filter.gte('random',percent))\n",
        "a4 = sample.filter(ee.Filter.eq('landcover',4)).limit(li).randomColumn()\n",
        "b4 = a4.filter(ee.Filter.lt('random',percent))\n",
        "c4 = a4.filter(ee.Filter.gte('random',percent))\n",
        "a5 = sample.filter(ee.Filter.eq('landcover',5)).limit(li).randomColumn()\n",
        "b5 = a5.filter(ee.Filter.lt('random',percent))\n",
        "c5 = a5.filter(ee.Filter.gte('random',percent))\n",
        "a6 = sample.filter(ee.Filter.eq('landcover',6)).limit(li).randomColumn()\n",
        "b6 = a6.filter(ee.Filter.lt('random',percent))\n",
        "c6 = a6.filter(ee.Filter.gte('random',percent))\n",
        "a7 = sample.filter(ee.Filter.eq('landcover',7)).limit(li).randomColumn()\n",
        "b7 = a7.filter(ee.Filter.lt('random',percent))\n",
        "c7 = a7.filter(ee.Filter.gte('random',percent))\n",
        "a8 = sample.filter(ee.Filter.eq('landcover',8)).limit(li).randomColumn()\n",
        "b8 = a8.filter(ee.Filter.lt('random',percent))\n",
        "c8 = a8.filter(ee.Filter.gte('random',percent))\n",
        "a9 = sample.filter(ee.Filter.eq('landcover',9)).limit(li).randomColumn()\n",
        "b9 = a9.filter(ee.Filter.lt('random',percent))\n",
        "c9 = a9.filter(ee.Filter.gte('random',percent))\n",
        "a10 = sample.filter(ee.Filter.eq('landcover',10)).limit(li).randomColumn()\n",
        "b10 = a10.filter(ee.Filter.lt('random',percent))\n",
        "c10 = a10.filter(ee.Filter.gte('random',percent))\n",
        "a11 = sample.filter(ee.Filter.eq('landcover',11)).limit(li).randomColumn()\n",
        "b11 = a11.filter(ee.Filter.lt('random',percent))\n",
        "c11 = a11.filter(ee.Filter.gte('random',percent))\n",
        "a12 = sample.filter(ee.Filter.eq('landcover',12)).limit(li).randomColumn()\n",
        "b12 = a12.filter(ee.Filter.lt('random',percent))\n",
        "c12 = a12.filter(ee.Filter.gte('random',percent))\n",
        "a13 = sample.filter(ee.Filter.eq('landcover',13)).limit(li).randomColumn()\n",
        "b13 = a13.filter(ee.Filter.lt('random',percent))\n",
        "c13 = a13.filter(ee.Filter.gte('random',percent))\n",
        "b = b0.merge(b1).merge(b2).merge(b3).merge(b4).merge(b5).merge(b6).merge(b7).merge(b8).merge(b9).merge(b10).merge(b11).merge(b12).merge(b13)\n",
        "c = c0.merge(c1).merge(c2).merge(c3).merge(c4).merge(c5).merge(c6).merge(c7).merge(c8).merge(c9).merge(c10).merge(c11).merge(c12).merge(c13)\n",
        "training = b\n",
        "testing = c\n",
        "# for i in range(14):\n",
        "  # a0 = sample.filter(ee.Filter.eq('landcover',i)).limit(li).randomColumn()\n",
        "  # b0 = a0.filter(ee.Filter.lt('random',percent))\n",
        "  # c0 = a0.filter(ee.Filter.gte('random',percent))\n",
        "  # pprint(\"b0:%d\"%(a0.size().getInfo()))\n",
        "  # pprint(\"c0:%d\"%(c0.size().getInfo()))\n",
        "\n",
        "# pprint(\"a0:%d\"%(a0.size().getInfo()))\n",
        "# pprint(\"a1:%d\"%(a1.size().getInfo()))\n",
        "# pprint(\"a2:%d\"%(a2.size().getInfo()))\n",
        "# pprint(\"a3:%d\"%(a3.size().getInfo()))\n",
        "# pprint(\"a4:%d\"%(a4.size().getInfo()))\n",
        "# pprint(\"a5:%d\"%(a5.size().getInfo()))\n",
        "# pprint(\"a6:%d\"%(a6.size().getInfo()))\n",
        "# pprint(\"a7:%d\"%(a7.size().getInfo()))\n",
        "# pprint(\"a8:%d\"%(a8.size().getInfo()))\n",
        "# trainingPolys = ee.FeatureCollection('projects/google/DemoTrainingGeometries')\n",
        "# trainingPolysList = trainingPolys.toList(trainingPolys.size())\n",
        "# geomSample = ee.FeatureCollection([])\n",
        "# for g in range(trainingPolys.size().getInfo()):\n",
        "#   sample = ln.sample(\n",
        "#     # region = ee.Feature(trainingPolysList.get(g)).geometry(),\n",
        "#     region = label_data,\n",
        "#     scale = 30,\n",
        "#     numPixels = 1000, # Size of the shard.\n",
        "#     seed = 3,\n",
        "#     tileScale = 8\n",
        "#   )\n",
        "#   geomSample = geomSample.merge(sample)"
      ],
      "execution_count": null,
      "outputs": []
    },
    {
      "cell_type": "markdown",
      "metadata": {
        "id": "UEeyPf3zSPct"
      },
      "source": [
        "## Add pixel values of the composite to labeled points\n",
        "\n",
        "Some training labels have already been collected for you.  Load the labeled points from an existing Earth Engine asset.  Each point in this table has a property called `landcover` that stores the label, encoded as an integer.  Here we overlay the points on  imagery to get predictor variables along with labels."
      ]
    },
    {
      "cell_type": "code",
      "metadata": {
        "id": "iOedOKyRExHE"
      },
      "source": [
        "# Sample the image at the points and add a random column.\n",
        "# sample = ln.sampleRegions(\n",
        "#   collection=label_data, scale=30)\n",
        "# sample = sample.randomColumn()\n",
        "# sample = sample.sort('random')\n",
        "\n",
        "# percent = 0.6\n",
        "# li = 4000\n",
        "\n",
        "# a0 = sample.filter(ee.Filter.eq('landcover',0)).limit(li).randomColumn()\n",
        "# b0 = a0.filter(ee.Filter.lt('random',percent))\n",
        "# c0 = a0.filter(ee.Filter.gte('random',percent))\n",
        "# a1 = sample.filter(ee.Filter.eq('landcover',1)).limit(li).randomColumn()\n",
        "# b1 = a1.filter(ee.Filter.lt('random',percent))\n",
        "# c1 = a1.filter(ee.Filter.gte('random',percent))\n",
        "# a2 = sample.filter(ee.Filter.eq('landcover',2)).limit(li).randomColumn()\n",
        "# b2 = a2.filter(ee.Filter.lt('random',percent))\n",
        "# c2 = a2.filter(ee.Filter.gte('random',percent))\n",
        "# a3 = sample.filter(ee.Filter.eq('landcover',3)).limit(li).randomColumn()\n",
        "# b3 = a3.filter(ee.Filter.lt('random',percent))\n",
        "# c3 = a3.filter(ee.Filter.gte('random',percent))\n",
        "# a4 = sample.filter(ee.Filter.eq('landcover',4)).limit(li).randomColumn()\n",
        "# b4 = a4.filter(ee.Filter.lt('random',percent))\n",
        "# c4 = a4.filter(ee.Filter.gte('random',percent))\n",
        "# a5 = sample.filter(ee.Filter.eq('landcover',5)).limit(li).randomColumn()\n",
        "# b5 = a5.filter(ee.Filter.lt('random',percent))\n",
        "# c5 = a5.filter(ee.Filter.gte('random',percent))\n",
        "# a6 = sample.filter(ee.Filter.eq('landcover',6)).limit(li).randomColumn()\n",
        "# b6 = a6.filter(ee.Filter.lt('random',percent))\n",
        "# c6 = a6.filter(ee.Filter.gte('random',percent))\n",
        "# a7 = sample.filter(ee.Filter.eq('landcover',7)).limit(li).randomColumn()\n",
        "# b7 = a7.filter(ee.Filter.lt('random',percent))\n",
        "# c7 = a7.filter(ee.Filter.gte('random',percent))\n",
        "# a8 = sample.filter(ee.Filter.eq('landcover',8)).limit(li).randomColumn()\n",
        "# b8 = a8.filter(ee.Filter.lt('random',percent))\n",
        "# c8 = a8.filter(ee.Filter.gte('random',percent))\n",
        "# a9 = sample.filter(ee.Filter.eq('landcover',9)).limit(li).randomColumn()\n",
        "# b9 = a9.filter(ee.Filter.lt('random',percent))\n",
        "# c9 = a9.filter(ee.Filter.gte('random',percent))\n",
        "# a10 = sample.filter(ee.Filter.eq('landcover',10)).limit(li).randomColumn()\n",
        "# b10 = a10.filter(ee.Filter.lt('random',percent))\n",
        "# c10 = a10.filter(ee.Filter.gte('random',percent))\n",
        "# a11 = sample.filter(ee.Filter.eq('landcover',11)).limit(li).randomColumn()\n",
        "# b11 = a11.filter(ee.Filter.lt('random',percent))\n",
        "# c11 = a11.filter(ee.Filter.gte('random',percent))\n",
        "# a12 = sample.filter(ee.Filter.eq('landcover',12)).limit(li).randomColumn()\n",
        "# b12 = a12.filter(ee.Filter.lt('random',percent))\n",
        "# c12 = a12.filter(ee.Filter.gte('random',percent))\n",
        "# a13 = sample.filter(ee.Filter.eq('landcover',13)).limit(li).randomColumn()\n",
        "# b13 = a13.filter(ee.Filter.lt('random',percent))\n",
        "# c13 = a13.filter(ee.Filter.gte('random',percent))\n",
        "# a14 = sample.filter(ee.Filter.eq('landcover',14)).limit(li).randomColumn()\n",
        "# b14 = a14.filter(ee.Filter.lt('random',percent))\n",
        "# c14 = a14.filter(ee.Filter.gte('random',percent))\n",
        "# a15 = sample.filter(ee.Filter.eq('landcover',15)).limit(li).randomColumn()\n",
        "# b15 = a15.filter(ee.Filter.lt('random',percent))\n",
        "# c15 = a15.filter(ee.Filter.gte('random',percent))\n",
        "# a16 = sample.filter(ee.Filter.eq('landcover',16)).limit(li).randomColumn()\n",
        "# b16 = a16.filter(ee.Filter.lt('random',percent))\n",
        "# c16 = a16.filter(ee.Filter.gte('random',percent))\n",
        "# a17 = sample.filter(ee.Filter.eq('landcover',17)).limit(li).randomColumn()\n",
        "# b17 = a17.filter(ee.Filter.lt('random',percent))\n",
        "# c17 = a17.filter(ee.Filter.gte('random',percent))\n",
        "# a18 = sample.filter(ee.Filter.eq('landcover',18)).limit(li).randomColumn()\n",
        "# b18 = a18.filter(ee.Filter.lt('random',percent))\n",
        "# c18 = a18.filter(ee.Filter.gte('random',percent))\n",
        "# a19 = sample.filter(ee.Filter.eq('landcover',19)).limit(li).randomColumn()\n",
        "# b19 = a19.filter(ee.Filter.lt('random',percent))\n",
        "# c19 = a19.filter(ee.Filter.gte('random',percent))\n",
        "# b = b0.merge(b1).merge(b2).merge(b3).merge(b4).merge(b5).merge(b6).merge(b7).merge(b8)\n",
        "# c = c0.merge(c1).merge(c2).merge(c3).merge(c4).merge(c5).merge(c6).merge(c7).merge(c8)\n",
        "# training = b\n",
        "# testing = c\n",
        "# # Partition the sample approximately 70-30.\n",
        "# # training = sample.filter(ee.Filter.lt('random', 0.1))\n",
        "# # testing = sample.filter(ee.Filter.gt('random', 0))\n",
        "# # training = geomSample\n",
        "# pprint(\"a0:%d\"%(a0.size().getInfo()))\n",
        "# pprint(\"a1:%d\"%(a1.size().getInfo()))\n",
        "# pprint(\"a2:%d\"%(a2.size().getInfo()))\n",
        "# pprint(\"a3:%d\"%(a3.size().getInfo()))\n",
        "# pprint(\"a4:%d\"%(a4.size().getInfo()))\n",
        "# pprint(\"a5:%d\"%(a5.size().getInfo()))\n",
        "# pprint(\"a6:%d\"%(a6.size().getInfo()))\n",
        "# pprint(\"a7:%d\"%(a7.size().getInfo()))\n",
        "# pprint(\"a8:%d\"%(a8.size().getInfo()))\n",
        "# pprint(\"a9:%d\"%(a9.size().getInfo()))\n",
        "# pprint(\"a10:%d\"%(a10.size().getInfo()))\n",
        "# pprint(\"a11:%d\"%(a11.size().getInfo()))\n",
        "# pprint(\"a12:%d\"%(a12.size().getInfo()))\n",
        "# pprint(\"a13:%d\"%(a13.size().getInfo()))\n",
        "# pprint(\"a14:%d\"%(a14.size().getInfo()))\n",
        "# pprint(\"a15:%d\"%(a15.size().getInfo()))\n",
        "# pprint(\"a16:%d\"%(a16.size().getInfo()))\n",
        "# pprint(\"a17:%d\"%(a17.size().getInfo()))\n",
        "# pprint(\"a18:%d\"%(a18.size().getInfo()))\n",
        "# pprint(\"a19:%d\"%(a19.size().getInfo()))"
      ],
      "execution_count": null,
      "outputs": []
    },
    {
      "cell_type": "markdown",
      "metadata": {
        "id": "uNc7a2nRR4MI"
      },
      "source": [
        "## Export the training and testing data\n",
        "\n",
        "Now that there's training and testing data in Earth Engine and you've inspected a couple examples to ensure that the information you need is present, it's time to materialize the datasets in a place where the TensorFlow model has access to them.  You can do that by exporting the training and testing datasets to tables in TFRecord format ([learn more about TFRecord format](https://www.tensorflow.org/tutorials/load_data/tf-records)) in your Cloud Storage bucket."
      ]
    },
    {
      "cell_type": "code",
      "metadata": {
        "id": "Pb-aPvQc0Xvp"
      },
      "source": [
        "# Make sure you can see the output bucket.  You must have write access.\n",
        "print('Found Cloud Storage bucket.' if tf.io.gfile.exists('gs://' + OUTPUT_BUCKET)\n",
        "    else 'Can not find output Cloud Storage bucket.')"
      ],
      "execution_count": null,
      "outputs": []
    },
    {
      "cell_type": "markdown",
      "metadata": {
        "id": "Wtoqj0Db1TmJ"
      },
      "source": [
        "Once you've verified the existence of the intended output bucket, run the exports."
      ]
    },
    {
      "cell_type": "code",
      "metadata": {
        "id": "TfVNQzg8R6Wy"
      },
      "source": [
        "# Create the tasks.\n",
        "training_task = ee.batch.Export.table.toCloudStorage(\n",
        "  collection=training,\n",
        "  description='Training Export',\n",
        "  fileNamePrefix=TRAIN_FILE_PREFIX,\n",
        "  bucket=OUTPUT_BUCKET,\n",
        "  fileFormat='TFRecord',\n",
        "  selectors=FEATURE_NAMES)\n",
        "\n",
        "testing_task = ee.batch.Export.table.toCloudStorage(\n",
        "  collection=testing,\n",
        "  description='Testing Export',\n",
        "  fileNamePrefix=TEST_FILE_PREFIX,\n",
        "  bucket=OUTPUT_BUCKET,\n",
        "  fileFormat='TFRecord',\n",
        "  selectors=FEATURE_NAMES)"
      ],
      "execution_count": null,
      "outputs": []
    },
    {
      "cell_type": "code",
      "metadata": {
        "id": "QF4WGIekaS2s"
      },
      "source": [
        "# Start the tasks.\n",
        "training_task.start()\n",
        "testing_task.start()"
      ],
      "execution_count": null,
      "outputs": []
    },
    {
      "cell_type": "markdown",
      "metadata": {
        "id": "q7nFLuySISeC"
      },
      "source": [
        "### Monitor task progress\n",
        "\n",
        "You can see all your Earth Engine tasks by listing them.  Make sure the training and testing tasks are completed before continuing."
      ]
    },
    {
      "cell_type": "code",
      "metadata": {
        "id": "oEWvS5ekcEq0"
      },
      "source": [
        "# Print all tasks.\n",
        "pprint(ee.batch.Task.list())"
      ],
      "execution_count": null,
      "outputs": []
    },
    {
      "cell_type": "markdown",
      "metadata": {
        "id": "43-c0JNFI_m6"
      },
      "source": [
        "### Check existence of the exported files\n",
        "\n",
        "If you've seen the status of the export tasks change to `COMPLETED`, then check for the existince of the files in the output Cloud Storage bucket."
      ]
    },
    {
      "cell_type": "code",
      "metadata": {
        "id": "YDZfNl6yc0Kj"
      },
      "source": [
        "print('Found training file.' if tf.io.gfile.exists(TRAIN_FILE_PATH)\n",
        "    else 'No training file found.')\n",
        "print('Found testing file.' if tf.io.gfile.exists(TEST_FILE_PATH)\n",
        "    else 'No testing file found.')"
      ],
      "execution_count": null,
      "outputs": []
    },
    {
      "cell_type": "markdown",
      "metadata": {
        "id": "NA8QA8oQVo8V"
      },
      "source": [
        "## Export the imagery\n",
        "\n",
        "You can also export imagery using TFRecord format.  Specifically, export whatever imagery you want to be classified by the trained model into the output Cloud Storage bucket."
      ]
    },
    {
      "cell_type": "code",
      "metadata": {
        "id": "tVNhJYacVpEw"
      },
      "source": [
        "# Specify patch and file dimensions.\n",
        "image_export_options = {\n",
        "  'patchDimensions': [256,256],\n",
        "  'maxFileSize': 104857600,\n",
        "  'compressed': True\n",
        "}\n",
        "\n",
        "# Setup the task.\n",
        "image_task = ee.batch.Export.image.toCloudStorage(\n",
        "  image=image,\n",
        "  description='Image Export',\n",
        "  fileNamePrefix=IMAGE_FILE_PREFIX,\n",
        "  bucket=OUTPUT_BUCKET,\n",
        "  scale=30,\n",
        "  fileFormat='TFRecord',\n",
        "  region=EXPORT_REGION.toGeoJSON()['coordinates'],\n",
        "  formatOptions=image_export_options,\n",
        ")"
      ],
      "execution_count": null,
      "outputs": []
    },
    {
      "cell_type": "code",
      "metadata": {
        "id": "6SweCkHDaNE3"
      },
      "source": [
        "# Start the task.\n",
        "image_task.start()"
      ],
      "execution_count": null,
      "outputs": []
    },
    {
      "cell_type": "markdown",
      "metadata": {
        "id": "JC8C53MRTG_E"
      },
      "source": [
        "### Monitor task progress"
      ]
    },
    {
      "cell_type": "code",
      "metadata": {
        "id": "BmPHb779KOXm"
      },
      "source": [
        "# Print all tasks.\n",
        "pprint(ee.batch.Task.list())"
      ],
      "execution_count": null,
      "outputs": []
    },
    {
      "cell_type": "markdown",
      "metadata": {
        "id": "SrUhA1JKLONj"
      },
      "source": [
        "It's also possible to monitor an individual task.  Here we poll the task until it's done.  If you do this, please put a `sleep()` in the loop to avoid making too many requests.  Note that this will block until complete (you can always halt the execution of this cell)."
      ]
    },
    {
      "cell_type": "code",
      "metadata": {
        "id": "rKZeZswloP11"
      },
      "source": [
        "import time\n",
        "\n",
        "while image_task.active():\n",
        "  print('Polling for task (id: {}).'.format(image_task.id))\n",
        "  time.sleep(30)\n",
        "print('Done with image export.')"
      ],
      "execution_count": null,
      "outputs": []
    },
    {
      "cell_type": "markdown",
      "metadata": {
        "id": "9vWdH_wlZCEk"
      },
      "source": [
        "# Data preparation and pre-processing\n",
        "\n",
        "Read data from the TFRecord file into a `tf.data.Dataset`.  Pre-process the dataset to get it into a suitable format for input to the model."
      ]
    },
    {
      "cell_type": "markdown",
      "metadata": {
        "id": "LS4jGTrEfz-1"
      },
      "source": [
        "## Read into a `tf.data.Dataset`\n",
        "\n",
        "Here we are going to read a file in Cloud Storage into a `tf.data.Dataset`.  ([these TensorFlow docs](https://www.tensorflow.org/guide/data) explain more about reading data into a `Dataset`).  Check that you can read examples from the file.  The purpose here is to ensure that we can read from the file without an error.  The actual content is not necessarily human readable.\n",
        "\n"
      ]
    },
    {
      "cell_type": "code",
      "metadata": {
        "id": "T3PKyDQW8Vpx",
        "cellView": "code"
      },
      "source": [
        "# Create a dataset from the TFRecord file in Cloud Storage.\n",
        "train_dataset = tf.data.TFRecordDataset(TRAIN_FILE_PATH, compression_type='GZIP')\n",
        "train_dataset = train_dataset.shuffle(50000,seed=1)\n",
        "# Print the first record to check.\n",
        "print(iter(train_dataset).next())"
      ],
      "execution_count": null,
      "outputs": []
    },
    {
      "cell_type": "markdown",
      "metadata": {
        "id": "BrDYm-ibKR6t"
      },
      "source": [
        "## Define the structure of your data\n",
        "\n",
        "For parsing the exported TFRecord files, `featuresDict` is a mapping between feature names (recall that `featureNames` contains the band and label names) and `float32` [`tf.io.FixedLenFeature`](https://www.tensorflow.org/api_docs/python/tf/io/FixedLenFeature) objects.  This mapping is necessary for telling TensorFlow how to read data in a TFRecord file into tensors.  Specifically, **all numeric data exported from Earth Engine is exported as `float32`**.\n",
        "\n",
        "(Note: *features* in the TensorFlow context (i.e. [`tf.train.Feature`](https://www.tensorflow.org/api_docs/python/tf/train/Feature)) are not to be confused with Earth Engine features (i.e. [`ee.Feature`](https://developers.google.com/earth-engine/api_docs#eefeature)), where the former is a protocol message type for serialized data input to the model and the latter is a geometry-based geographic data structure.)"
      ]
    },
    {
      "cell_type": "code",
      "metadata": {
        "id": "-6JVQV5HKHMZ",
        "cellView": "code"
      },
      "source": [
        "# List of fixed-length features, all of which are float32.\n",
        "columns = [\n",
        "  tf.io.FixedLenFeature(shape=[1], dtype=tf.float32) for k in FEATURE_NAMES\n",
        "]\n",
        "\n",
        "# Dictionary with names as keys, features as values.\n",
        "features_dict = dict(zip(FEATURE_NAMES, columns))\n",
        "pprint(features_dict)"
      ],
      "execution_count": null,
      "outputs": []
    },
    {
      "cell_type": "markdown",
      "metadata": {
        "id": "QNfaUPbcjuCO"
      },
      "source": [
        "## Parse the dataset\n",
        "\n",
        "Now we need to make a parsing function for the data in the TFRecord files.  The data comes in flattened 2D arrays per record and we want to use the first part of the array for input to the model and the last element of the array as the class label.  The parsing function reads data from a serialized [`Example` proto](https://www.tensorflow.org/api_docs/python/tf/train/Example) into a dictionary in which the keys are the feature names and the values are the tensors storing the value of the features for that example.  ([These TensorFlow docs](https://www.tensorflow.org/tutorials/load_data/tfrecord) explain more about reading `Example` protos from TFRecord files)."
      ]
    },
    {
      "cell_type": "code",
      "metadata": {
        "id": "x2Q0g3fBj2kD",
        "cellView": "code"
      },
      "source": [
        "def parse_tfrecord(example_proto):\n",
        "  \"\"\"The parsing function.\n",
        "\n",
        "  Read a serialized example into the structure defined by featuresDict.\n",
        "\n",
        "  Args:\n",
        "    example_proto: a serialized Example.\n",
        "\n",
        "  Returns:\n",
        "    A tuple of the predictors dictionary and the label, cast to an `int32`.\n",
        "  \"\"\"\n",
        "  parsed_features = tf.io.parse_single_example(example_proto, features_dict)\n",
        "  labels = parsed_features.pop(LABEL)\n",
        "  return parsed_features, tf.cast(labels, tf.int32)\n",
        "\n",
        "# Map the function over the dataset.\n",
        "parsed_dataset = train_dataset.map(parse_tfrecord, num_parallel_calls=5)\n",
        "\n",
        "# Print the first parsed record to check.\n",
        "pprint(iter(parsed_dataset).next())"
      ],
      "execution_count": null,
      "outputs": []
    },
    {
      "cell_type": "markdown",
      "metadata": {
        "id": "Nb8EyNT4Xnhb"
      },
      "source": [
        "Note that each record of the parsed dataset contains a tuple.  The first element of the tuple is a dictionary with bands for keys and the numeric value of the bands for values.  The second element of the tuple is a class label."
      ]
    },
    {
      "cell_type": "markdown",
      "metadata": {
        "id": "xLCsxWOuEBmE"
      },
      "source": [
        "## Create additional features\n",
        "\n",
        "Another thing we might want to do as part of the input process is to create new features, for example NDVI, a vegetation index computed from reflectance in two spectral bands.  Here are some helper functions for that."
      ]
    },
    {
      "cell_type": "code",
      "metadata": {
        "id": "lT6v2RM_EB1E",
        "cellView": "code"
      },
      "source": [
        "def normalized_difference(a, b):\n",
        "  \"\"\"Compute normalized difference of two inputs.\n",
        "\n",
        "  Compute (a - b) / (a + b).  If the denomenator is zero, add a small delta.\n",
        "\n",
        "  Args:\n",
        "    a: an input tensor with shape=[1]\n",
        "    b: an input tensor with shape=[1]\n",
        "\n",
        "  Returns:\n",
        "    The normalized difference as a tensor.\n",
        "  \"\"\"\n",
        "  nd = (a - b) / (a + b)\n",
        "  nd_inf = (a - b) / (a + b + 0.000001)\n",
        "  return tf.where(tf.math.is_finite(nd), nd, nd_inf)\n",
        "\n",
        "def add_NDVI(features, label):\n",
        "  \"\"\"Add NDVI to the dataset.\n",
        "  Args:\n",
        "    features: a dictionary of input tensors keyed by feature name.\n",
        "    label: the target label\n",
        "\n",
        "  Returns:\n",
        "    A tuple of the input dictionary with an NDVI tensor added and the label.\n",
        "  \"\"\"\n",
        "  features['NDVI'] = normalized_difference(features['B5_0_0'], features['B4_0_0'])\n",
        "  return features, label"
      ],
      "execution_count": null,
      "outputs": []
    },
    {
      "cell_type": "markdown",
      "metadata": {
        "id": "nEx1RAXOZQkS"
      },
      "source": [
        "# Model setup\n",
        "\n",
        "The basic workflow for classification in TensorFlow is:\n",
        "\n",
        "1.  Create the model.\n",
        "2.  Train the model (i.e. `fit()`).\n",
        "3.  Use the trained model for inference (i.e. `predict()`).\n",
        "\n",
        "Here we'll create a `Sequential` neural network model using Keras.  This simple model is inspired by examples in:\n",
        "\n",
        "* [The TensorFlow Get Started tutorial](https://www.tensorflow.org/tutorials/)\n",
        "* [The TensorFlow Keras guide](https://www.tensorflow.org/guide/keras#build_a_simple_model)\n",
        "* [The Keras `Sequential` model examples](https://keras.io/getting-started/sequential-model-guide/#multilayer-perceptron-mlp-for-multi-class-softmax-classification)\n",
        "\n",
        "Note that the model used here is purely for demonstration purposes and hasn't gone through any performance tuning."
      ]
    },
    {
      "cell_type": "markdown",
      "metadata": {
        "id": "t9pWa54oG-xl"
      },
      "source": [
        "## Create the Keras model\n",
        "\n",
        "Before we create the model, there's still a wee bit of pre-processing to get the data into the right input shape and a format that can be used with cross-entropy loss.  Specifically, Keras expects a list of inputs and a one-hot vector for the class. (See [the Keras loss function docs](https://keras.io/losses/), [the TensorFlow categorical identity docs](https://www.tensorflow.org/guide/feature_columns#categorical_identity_column) and [the `tf.one_hot` docs](https://www.tensorflow.org/api_docs/python/tf/one_hot) for details).  \n",
        "\n",
        "Here we will use a simple neural network model with a 64 node hidden layer, a dropout layer and an output layer.  Once the dataset has been prepared, define the model, compile it, fit it to the training data.  See [the Keras `Sequential` model guide](https://keras.io/getting-started/sequential-model-guide/) for more details."
      ]
    },
    {
      "cell_type": "code",
      "metadata": {
        "id": "OCZq3VNpG--G",
        "cellView": "code"
      },
      "source": [
        "from tensorflow import keras\n",
        "from sklearn import preprocessing\n",
        "\n",
        "# Add NDVI.\n",
        "# input_dataset = parsed_dataset.map(add_NDVI)\n",
        "# input_dataset = parsed_dataset\n",
        "\n",
        "# Keras requires inputs as a tuple.  Note that the inputs must be in the\n",
        "# right shape.  Also note that to use the categorical_crossentropy loss,\n",
        "# the label needs to be turned into a one-hot vector.\n",
        "def to_tuple(inputs, label):\n",
        "  return (tf.transpose(list(inputs.values())),\n",
        "          tf.one_hot(indices=label, depth=N_CLASSES))\n",
        "\n",
        "# Map the to_tuple function, shuffle and batch.\n",
        "\n",
        "input_dataset = parsed_dataset.map(to_tuple).batch(64)\n",
        "# Define the layers in the model.\n",
        "model = tf.keras.models.Sequential([\n",
        "  # tf.keras.layers.Input(shape=(1,88)),\n",
        "  # tf.keras.layers.BatchNormalization(),\n",
        "  # tf.keras.layers.Dense(64, activation=tf.nn.relu),\n",
        "  # tf.keras.layers.BatchNormalization(),\n",
        "  # tf.keras.layers.Dense(64, activation=tf.nn.relu),\n",
        "  # tf.keras.layers.BatchNormalization(),\n",
        "  # tf.keras.layers.Dense(64, activation=tf.nn.relu),\n",
        "\n",
        "\n",
        "  # tf.keras.layers.Input(shape=(1,108)),\n",
        "  # tf.keras.layers.BatchNormalization(),\n",
        "  # tf.keras.layers.Dense(32, activation=tf.nn.relu),\n",
        "  # tf.keras.layers.BatchNormalization(),\n",
        "  # tf.keras.layers.Dense(32, activation=tf.nn.relu),\n",
        "  # tf.keras.layers.BatchNormalization(),\n",
        "  # tf.keras.layers.Dense(32, activation=tf.nn.relu),\n",
        "  # tf.keras.layers.BatchNormalization(),\n",
        "  # tf.keras.layers.Dense(32, activation=tf.nn.relu,kernel_regularizer=keras.regularizers.l2(0.01)),\n",
        "\n",
        "  # tf.keras.layers.Input(shape=(1,88)),\n",
        "  # tf.keras.layers.BatchNormalization(),\n",
        "  # tf.keras.layers.Reshape([4,22,1]),\n",
        "  # tf.keras.layers.Conv2D(32, (2,4), strides=(1,1), padding='valid',activation=tf.nn.relu),\n",
        "  # tf.keras.layers.Conv2D(32, (2,4), strides=(1,1), padding='valid',activation=tf.nn.relu),\n",
        "  # tf.keras.layers.Conv2D(32, (2,4), strides=(1,1), padding='valid',activation=tf.nn.relu),\n",
        "  # tf.keras.layers.Flatten(),\n",
        "  # tf.keras.layers.Dense(100, activation='relu'),\n",
        "  # tf.keras.layers.Reshape([1,100]),\n",
        "\n",
        "  # tf.keras.layers.Input(shape=(1,88)),\n",
        "  # tf.keras.layers.BatchNormalization(),\n",
        "  # tf.keras.layers.Reshape([22,4,1]),\n",
        "  # tf.keras.layers.Conv2D(32, (4,2), strides=(1,1), padding='valid',activation=tf.nn.relu),\n",
        "  # tf.keras.layers.Conv2D(32, (4,2), strides=(1,1), padding='valid',activation=tf.nn.relu),\n",
        "  # # tf.keras.layers.Conv2D(32, (4,2), strides=(1,1), padding='valid',activation=tf.nn.relu),\n",
        "  # tf.keras.layers.Flatten(),\n",
        "  # tf.keras.layers.Dense(100, activation='relu'),\n",
        "  # tf.keras.layers.Reshape([1,100]),\n",
        "\n",
        "  tf.keras.layers.Input(shape=(1,88)),\n",
        "  tf.keras.layers.BatchNormalization(),\n",
        "  tf.keras.layers.Reshape([8,11,1]),\n",
        "  tf.keras.layers.Conv2D(32, (2,2), strides=(1,1), padding='valid',activation=tf.nn.relu),\n",
        "  tf.keras.layers.Conv2D(32, (2,2), strides=(1,1), padding='valid',activation=tf.nn.relu),\n",
        "  tf.keras.layers.MaxPooling2D((2,2),strides=(2,2)),\n",
        "  tf.keras.layers.Conv2D(32, (2,2), strides=(1,1), padding='valid',activation=tf.nn.relu),\n",
        "  tf.keras.layers.Flatten(),\n",
        "  tf.keras.layers.Dense(100, activation='relu'),\n",
        "  tf.keras.layers.Reshape([1,100]),\n",
        "\n",
        "  # tf.keras.layers.Input(shape=(1,108)),\n",
        "  # tf.keras.layers.BatchNormalization(),\n",
        "  # tf.keras.layers.Reshape([12,9,1]),\n",
        "  # tf.keras.layers.Conv2D(32, (3,3), strides=(1,1), padding='valid',activation=tf.nn.relu),\n",
        "  # tf.keras.layers.Conv2D(32, (3,3), strides=(1,1), padding='valid',activation=tf.nn.relu),\n",
        "  # tf.keras.layers.Conv2D(32, (3,3), strides=(1,1), padding='valid',activation=tf.nn.relu),\n",
        "  # tf.keras.layers.Conv2D(32, (3,3), strides=(1,1), padding='valid',activation=tf.nn.relu),\n",
        "  # tf.keras.layers.Flatten(),\n",
        "  # # tf.keras.layers.Dense(32, activation='relu'),\n",
        "  # # tf.keras.layers.Dropout(0.8),\n",
        "  # tf.keras.layers.Reshape([1,128]),\n",
        "\n",
        "\n",
        "\n",
        "\n",
        "  tf.keras.layers.Dense(N_CLASSES, activation=tf.nn.softmax)\n",
        "])\n",
        "\n",
        "# Compile the model with the specified loss function.\n",
        "model.compile(optimizer=tf.keras.optimizers.Adam(),\n",
        "              loss='categorical_crossentropy',\n",
        "              metrics=['accuracy'])\n",
        "# Fit the model to the training data.\n",
        "model.fit(x=input_dataset, epochs=10)"
      ],
      "execution_count": null,
      "outputs": []
    },
    {
      "cell_type": "code",
      "metadata": {
        "id": "gpejlydszNJq"
      },
      "source": [
        "from keras.utils import plot_model\n",
        "model.summary()\n",
        "plot_model(model, to_file='model_test.png',show_shapes=True)"
      ],
      "execution_count": null,
      "outputs": []
    },
    {
      "cell_type": "markdown",
      "metadata": {
        "id": "Pa4ex_4eKiyb"
      },
      "source": [
        "## Check model accuracy on the test set\n",
        "\n",
        "Now that we have a trained model, we can evaluate it using the test dataset.  To do that, read and prepare the test dataset in the same way as the training dataset.  Here we specify a batch size of 1 so that each example in the test set is used exactly once to compute model accuracy.  For model steps, just specify a number larger than the test dataset size (ignore the warning)."
      ]
    },
    {
      "cell_type": "code",
      "metadata": {
        "id": "tE6d7FsrMa1p",
        "cellView": "code"
      },
      "source": [
        "test_dataset = (\n",
        "  tf.data.TFRecordDataset(TEST_FILE_PATH, compression_type='GZIP')\n",
        "    .map(parse_tfrecord, num_parallel_calls=5)\n",
        "    .map(to_tuple)\n",
        "    .batch(1))\n",
        "\n",
        "model.evaluate(test_dataset, return_dict=True)\n",
        "# input_dataset = parsed_dataset.map(to_tuple).batch(1)\n",
        "# model.evaluate(input_dataset)"
      ],
      "execution_count": null,
      "outputs": []
    },
    {
      "cell_type": "code",
      "metadata": {
        "id": "NDLaZXFwamTe"
      },
      "source": [
        "model.fit(x=input_dataset, epochs=10)"
      ],
      "execution_count": null,
      "outputs": []
    },
    {
      "cell_type": "code",
      "metadata": {
        "id": "nm3CMt_zwimi"
      },
      "source": [
        "model_save_path = 'gs://zhangjian/model'\n",
        "tf.keras.models.save_model(model,model_save_path)\n"
      ],
      "execution_count": null,
      "outputs": []
    },
    {
      "cell_type": "code",
      "metadata": {
        "id": "3GNOs0TrSp3K"
      },
      "source": [
        "MODEL_DIR = 'gs://zhangjian/model'\n",
        "model = tf.keras.models.load_model(MODEL_DIR)"
      ],
      "execution_count": null,
      "outputs": []
    },
    {
      "cell_type": "markdown",
      "metadata": {
        "id": "nhHrnv3VR0DU"
      },
      "source": [
        "# Use the trained model to classify an image from Earth Engine\n",
        "\n",
        "Now it's time to classify the image that was exported from Earth Engine.  If the exported image is large, it will be split into multiple TFRecord files in its destination folder.  There will also be a JSON sidecar file called \"the mixer\" that describes the format and georeferencing of the image.  Here we will find the image files and the mixer file, getting some info out of the mixer that will be useful during model inference."
      ]
    },
    {
      "cell_type": "markdown",
      "metadata": {
        "id": "nmTayDitZgQ5"
      },
      "source": [
        "## Find the image files and JSON mixer file in Cloud Storage\n",
        "\n",
        "Use `gsutil` to locate the files of interest in the output Cloud Storage bucket.  Check to make sure your image export task finished before running the following."
      ]
    },
    {
      "cell_type": "code",
      "metadata": {
        "id": "oUv9WMpcVp8E"
      },
      "source": [
        "# Get a list of all the files in the output bucket.\n",
        "files_list = !gsutil ls 'gs://'{OUTPUT_BUCKET}\n",
        "# Get only the files generated by the image export.\n",
        "exported_files_list = [s for s in files_list if IMAGE_FILE_PREFIX in s]\n",
        "\n",
        "# Get the list of image files and the JSON mixer file.\n",
        "image_files_list = []\n",
        "json_file = None\n",
        "for f in exported_files_list:\n",
        "  if f.endswith('.tfrecord.gz'):\n",
        "    image_files_list.append(f)\n",
        "  elif f.endswith('.json'):\n",
        "    json_file = f\n",
        "\n",
        "# Make sure the files are in the right order.\n",
        "image_files_list.sort()\n",
        "\n",
        "pprint(image_files_list)\n",
        "print(json_file)"
      ],
      "execution_count": null,
      "outputs": []
    },
    {
      "cell_type": "markdown",
      "metadata": {
        "id": "RcjYG9fk53xL"
      },
      "source": [
        "## Read the JSON mixer file\n",
        "\n",
        "The mixer contains metadata and georeferencing information for the exported patches, each of which is in a different file.  Read the mixer to get some information needed for prediction."
      ]
    },
    {
      "cell_type": "code",
      "metadata": {
        "id": "Gn7Dr0AAd93_"
      },
      "source": [
        "import json\n",
        "\n",
        "# Load the contents of the mixer file to a JSON object.\n",
        "json_text = !gsutil cat {json_file}\n",
        "# Get a single string w/ newlines from the IPython.utils.text.SList\n",
        "mixer = json.loads(json_text.nlstr)\n",
        "pprint(mixer)"
      ],
      "execution_count": null,
      "outputs": []
    },
    {
      "cell_type": "markdown",
      "metadata": {
        "id": "6xyzyPPJwpVI"
      },
      "source": [
        "## Read the image files into a dataset\n",
        "\n",
        "You can feed the list of files (`imageFilesList`) directly to the `TFRecordDataset` constructor to make a combined dataset on which to perform inference.  The input needs to be preprocessed differently than the training and testing.  Mainly, this is because the pixels are written into records as patches, we need to read the patches in as one big tensor (one patch for each band), then flatten them into lots of little tensors."
      ]
    },
    {
      "cell_type": "code",
      "metadata": {
        "id": "tn8Kj3VfwpiJ",
        "cellView": "code"
      },
      "source": [
        "# Get relevant info from the JSON mixer file.\n",
        "patch_width = mixer['patchDimensions'][0]\n",
        "patch_height = mixer['patchDimensions'][1]\n",
        "patches = mixer['totalPatches']\n",
        "patch_dimensions_flat = [patch_width * patch_height, 1]\n",
        "\n",
        "# Note that the tensors are in the shape of a patch, one patch for each band.\n",
        "image_columns = [\n",
        "  tf.io.FixedLenFeature(shape=patch_dimensions_flat, dtype=tf.float32)\n",
        "    for k in BANDS\n",
        "]\n",
        "\n",
        "# Parsing dictionary.\n",
        "image_features_dict = dict(zip(BANDS, image_columns))\n",
        "\n",
        "# Note that you can make one dataset from many files by specifying a list.\n",
        "image_dataset = tf.data.TFRecordDataset(image_files_list, compression_type='GZIP')\n",
        "\n",
        "# Parsing function.\n",
        "def parse_image(example_proto):\n",
        "  return tf.io.parse_single_example(example_proto, image_features_dict)\n",
        "\n",
        "# Parse the data into tensors, one long tensor per patch.\n",
        "image_dataset = image_dataset.map(parse_image, num_parallel_calls=5)\n",
        "\n",
        "# Break our long tensors into many little ones.\n",
        "image_dataset = image_dataset.flat_map(\n",
        "  lambda features: tf.data.Dataset.from_tensor_slices(features)\n",
        ")\n",
        "\n",
        "# Add additional features (NDVI).\n",
        "# image_dataset = image_dataset.map(\n",
        "#   # Add NDVI to a feature that doesn't have a label.\n",
        "#   lambda features: add_NDVI(features, None)[0]\n",
        "# )\n",
        "\n",
        "# Turn the dictionary in each record into a tuple without a label.\n",
        "image_dataset = image_dataset.map(\n",
        "  lambda data_dict: (tf.transpose(list(data_dict.values())), )\n",
        ")\n",
        "\n",
        "# Turn each patch into a batch.\n",
        "image_dataset = image_dataset.batch(patch_width * patch_height)"
      ],
      "execution_count": null,
      "outputs": []
    },
    {
      "cell_type": "markdown",
      "metadata": {
        "id": "_2sfRemRRDkV"
      },
      "source": [
        "## Generate predictions for the image pixels\n",
        "\n",
        "To get predictions in each pixel, run the image dataset through the trained model using `model.predict()`.  Print the first prediction to see that the output is a list of the three class probabilities for each pixel.  Running all predictions might take a while."
      ]
    },
    {
      "cell_type": "code",
      "metadata": {
        "id": "8VGhmiP_REBP"
      },
      "source": [
        "# Run prediction in batches, with as many steps as there are patches.\n",
        "predictions = model.predict(image_dataset, steps=patches, verbose=1)\n",
        "\n",
        "# Note that the predictions come as a numpy array.  Check the first one.\n",
        "print(predictions[0])"
      ],
      "execution_count": null,
      "outputs": []
    },
    {
      "cell_type": "markdown",
      "metadata": {
        "id": "bPU2VlPOikAy"
      },
      "source": [
        "## Write the predictions to a TFRecord file\n",
        "\n",
        "Now that there's a list of class probabilities in `predictions`, it's time to write them back into a file, optionally including a class label which is simply the index of the maximum probability.  We'll write directly from TensorFlow to a file in the output Cloud Storage bucket.\n",
        "\n",
        "Iterate over the list, compute class label and write the class and the probabilities in patches.  Specifically, we need to write the pixels into the file as patches in the same order they came out.  The records are written as serialized `tf.train.Example` protos.  This might take a while."
      ]
    },
    {
      "cell_type": "code",
      "metadata": {
        "id": "AkorbsEHepzJ"
      },
      "source": [
        "print('Writing to file ' + OUTPUT_IMAGE_FILE)"
      ],
      "execution_count": null,
      "outputs": []
    },
    {
      "cell_type": "code",
      "metadata": {
        "id": "kATMknHc0qeR",
        "cellView": "code"
      },
      "source": [
        "# Instantiate the writer.\n",
        "writer = tf.io.TFRecordWriter(OUTPUT_IMAGE_FILE)\n",
        "\n",
        "# Every patch-worth of predictions we'll dump an example into the output\n",
        "# file with a single feature that holds our predictions. Since our predictions\n",
        "# are already in the order of the exported data, the patches we create here\n",
        "# will also be in the right order.\n",
        "patch = [[], [], [], []]\n",
        "cur_patch = 1\n",
        "for prediction in predictions:\n",
        "  patch[0].append(tf.argmax(prediction, 1))\n",
        "  patch[1].append(prediction[0][0])\n",
        "  patch[2].append(prediction[0][1])\n",
        "  patch[3].append(prediction[0][2])\n",
        "  # Once we've seen a patches-worth of class_ids...\n",
        "  if (len(patch[0]) == patch_width * patch_height):\n",
        "    print('Done with patch ' + str(cur_patch) + ' of ' + str(patches) + '...')\n",
        "    # Create an example\n",
        "    example = tf.train.Example(\n",
        "      features=tf.train.Features(\n",
        "        feature={\n",
        "          'prediction': tf.train.Feature(\n",
        "              int64_list=tf.train.Int64List(\n",
        "                  value=patch[0])),\n",
        "          'bareProb': tf.train.Feature(\n",
        "              float_list=tf.train.FloatList(\n",
        "                  value=patch[1])),\n",
        "          'vegProb': tf.train.Feature(\n",
        "              float_list=tf.train.FloatList(\n",
        "                  value=patch[2])),\n",
        "          'waterProb': tf.train.Feature(\n",
        "              float_list=tf.train.FloatList(\n",
        "                  value=patch[3])),\n",
        "        }\n",
        "      )\n",
        "    )\n",
        "    # Write the example to the file and clear our patch array so it's ready for\n",
        "    # another batch of class ids\n",
        "    writer.write(example.SerializeToString())\n",
        "    patch = [[], [], [], []]\n",
        "    cur_patch += 1\n",
        "\n",
        "writer.close()"
      ],
      "execution_count": null,
      "outputs": []
    },
    {
      "cell_type": "markdown",
      "metadata": {
        "id": "1K_1hKs0aBdA"
      },
      "source": [
        "# Upload the classifications to an Earth Engine asset"
      ]
    },
    {
      "cell_type": "markdown",
      "metadata": {
        "id": "M6sNZXWOSa82"
      },
      "source": [
        "## Verify the existence of the predictions file\n",
        "\n",
        "At this stage, there should be a predictions TFRecord file sitting in the output Cloud Storage bucket.  Use the `gsutil` command to verify that the predictions image (and associated mixer JSON) exist and have non-zero size."
      ]
    },
    {
      "cell_type": "code",
      "metadata": {
        "id": "6ZVWDPefUCgA"
      },
      "source": [
        "!gsutil ls -l {OUTPUT_IMAGE_FILE}"
      ],
      "execution_count": null,
      "outputs": []
    },
    {
      "cell_type": "markdown",
      "metadata": {
        "id": "2ZyCo297Clcx"
      },
      "source": [
        "## Upload the classified image to Earth Engine\n",
        "\n",
        "Upload the image to Earth Engine directly from the Cloud Storage bucket with the [`earthengine` command](https://developers.google.com/earth-engine/command_line#upload).  Provide both the image TFRecord file and the JSON file as arguments to `earthengine upload`."
      ]
    },
    {
      "cell_type": "code",
      "metadata": {
        "id": "NXulMNl9lTDv",
        "cellView": "code"
      },
      "source": [
        "print('Uploading to ' + OUTPUT_ASSET_ID)"
      ],
      "execution_count": null,
      "outputs": []
    },
    {
      "cell_type": "code",
      "metadata": {
        "id": "KY8Ngn0WD5Qm"
      },
      "source": [
        "pip install oauth2client==3.0.0"
      ],
      "execution_count": null,
      "outputs": []
    },
    {
      "cell_type": "code",
      "metadata": {
        "id": "V64tcVxsO5h6"
      },
      "source": [
        "# Start the upload.\n",
        "!earthengine upload image --asset_id={OUTPUT_ASSET_ID} --pyramiding_policy=mode {OUTPUT_IMAGE_FILE} {json_file}"
      ],
      "execution_count": null,
      "outputs": []
    },
    {
      "cell_type": "markdown",
      "metadata": {
        "id": "Yt4HyhUU_Bal"
      },
      "source": [
        "## Check the status of the asset ingestion\n",
        "\n",
        "You can also use the Earth Engine API to check the status of your asset upload.  It might take a while.  The upload of the image is an asset ingestion task."
      ]
    },
    {
      "cell_type": "code",
      "metadata": {
        "id": "_vB-gwGhl_3C",
        "cellView": "code"
      },
      "source": [
        "ee.batch.Task.list()"
      ],
      "execution_count": null,
      "outputs": []
    },
    {
      "cell_type": "markdown",
      "metadata": {
        "id": "vvXvy9GDhM-p"
      },
      "source": [
        "## View the ingested asset\n",
        "\n",
        "Display the vector of class probabilities as an RGB image with colors corresponding to the probability of bare, vegetation, water in a pixel.  Also display the winning class using the same color palette."
      ]
    },
    {
      "cell_type": "code",
      "metadata": {
        "id": "kEkVxIyJiFd4"
      },
      "source": [
        "predictions_image = ee.Image(OUTPUT_ASSET_ID)\n",
        "\n",
        "prediction_vis = {\n",
        "  'bands': 'prediction',\n",
        "  'min': 0,\n",
        "  'max': 13,\n",
        "  'palette': ['466b9f',\n",
        "    'd1def8',\n",
        "    'dec5c5',\n",
        "    'd99282',\n",
        "    'eb0000',\n",
        "    'ab0000',\n",
        "    'b3ac9f',\n",
        "    '68ab5f',\n",
        "    '1c5f2c']\n",
        "}\n",
        "probability_vis = {'bands': ['bareProb', 'vegProb', 'waterProb'], 'max': 0.5}\n",
        "\n",
        "prediction_map_id = predictions_image.getMapId(prediction_vis)\n",
        "probability_map_id = predictions_image.getMapId(probability_vis)\n",
        "\n",
        "# map = folium.Map(location=[37.6413, -122.2582])\n",
        "map = folium.Map(location=[-84.3242588445, 34.252569898362])\n",
        "folium.TileLayer(\n",
        "  tiles=prediction_map_id['tile_fetcher'].url_format,\n",
        "  attr='Map Data &copy; <a href=\"https://earthengine.google.com/\">Google Earth Engine</a>',\n",
        "  overlay=True,\n",
        "  name='prediction1',\n",
        ").add_to(map)\n",
        "folium.TileLayer(\n",
        "  tiles=probability_map_id['tile_fetcher'].url_format,\n",
        "  attr='Map Data &copy; <a href=\"https://earthengine.google.com/\">Google Earth Engine</a>',\n",
        "  overlay=True,\n",
        "  name='probability1',\n",
        ").add_to(map)\n",
        "map.add_child(folium.LayerControl())\n",
        "map"
      ],
      "execution_count": null,
      "outputs": []
    }
  ]
}
